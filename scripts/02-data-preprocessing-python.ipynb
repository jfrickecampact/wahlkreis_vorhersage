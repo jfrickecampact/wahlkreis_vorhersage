{
 "cells": [
  {
   "metadata": {
    "ExecuteTime": {
     "end_time": "2024-09-12T14:26:29.694009Z",
     "start_time": "2024-09-12T14:26:27.127986Z"
    }
   },
   "cell_type": "code",
   "source": "!pip install pyreadr",
   "id": "84d94444863fa7c",
   "outputs": [
    {
     "name": "stdout",
     "output_type": "stream",
     "text": [
      "Collecting pyreadr\r\n",
      "  Downloading pyreadr-0.5.2-cp312-cp312-macosx_11_0_arm64.whl.metadata (1.2 kB)\r\n",
      "Requirement already satisfied: pandas>=1.2.0 in /Users/jacobfricke/miniconda3/lib/python3.12/site-packages (from pyreadr) (2.2.2)\r\n",
      "Requirement already satisfied: numpy>=1.26.0 in /Users/jacobfricke/miniconda3/lib/python3.12/site-packages (from pandas>=1.2.0->pyreadr) (1.26.4)\r\n",
      "Requirement already satisfied: python-dateutil>=2.8.2 in /Users/jacobfricke/miniconda3/lib/python3.12/site-packages (from pandas>=1.2.0->pyreadr) (2.9.0.post0)\r\n",
      "Requirement already satisfied: pytz>=2020.1 in /Users/jacobfricke/miniconda3/lib/python3.12/site-packages (from pandas>=1.2.0->pyreadr) (2024.1)\r\n",
      "Requirement already satisfied: tzdata>=2022.7 in /Users/jacobfricke/miniconda3/lib/python3.12/site-packages (from pandas>=1.2.0->pyreadr) (2023.3)\r\n",
      "Requirement already satisfied: six>=1.5 in /Users/jacobfricke/miniconda3/lib/python3.12/site-packages (from python-dateutil>=2.8.2->pandas>=1.2.0->pyreadr) (1.16.0)\r\n",
      "Downloading pyreadr-0.5.2-cp312-cp312-macosx_11_0_arm64.whl (300 kB)\r\n",
      "\u001B[2K   \u001B[90m━━━━━━━━━━━━━━━━━━━━━━━━━━━━━━━━━━━━━━━━\u001B[0m \u001B[32m300.8/300.8 kB\u001B[0m \u001B[31m2.6 MB/s\u001B[0m eta \u001B[36m0:00:00\u001B[0ma \u001B[36m0:00:01\u001B[0mm\r\n",
      "\u001B[?25hInstalling collected packages: pyreadr\r\n",
      "Successfully installed pyreadr-0.5.2\r\n"
     ]
    }
   ],
   "execution_count": 2
  },
  {
   "metadata": {
    "collapsed": true,
    "ExecuteTime": {
     "end_time": "2024-09-12T14:26:39.581584Z",
     "start_time": "2024-09-12T14:26:39.347170Z"
    }
   },
   "cell_type": "code",
   "source": [
    "import pandas as pd\n",
    "import numpy as np\n",
    "from pyreadr import read_r\n",
    "import re\n",
    "from string import ascii_lowercase"
   ],
   "id": "initial_id",
   "outputs": [],
   "execution_count": 3
  },
  {
   "metadata": {
    "ExecuteTime": {
     "end_time": "2024-09-12T14:27:42.825113Z",
     "start_time": "2024-09-12T14:27:42.821456Z"
    }
   },
   "cell_type": "code",
   "source": [
    "# Load the lres.RDS file\n",
    "result = read_r(\"../raw-data/lres.RDS\")"
   ],
   "id": "95d5996e9c7767dc",
   "outputs": [],
   "execution_count": 5
  },
  {
   "metadata": {
    "ExecuteTime": {
     "end_time": "2024-09-12T14:51:10.528228Z",
     "start_time": "2024-09-12T14:51:10.242104Z"
    }
   },
   "cell_type": "code",
   "source": "result.head()",
   "id": "8a090991a6698a58",
   "outputs": [
    {
     "ename": "NameError",
     "evalue": "name 'result' is not defined",
     "output_type": "error",
     "traceback": [
      "\u001B[0;31m---------------------------------------------------------------------------\u001B[0m",
      "\u001B[0;31mNameError\u001B[0m                                 Traceback (most recent call last)",
      "Cell \u001B[0;32mIn[1], line 1\u001B[0m\n\u001B[0;32m----> 1\u001B[0m result\u001B[38;5;241m.\u001B[39mhead()\n",
      "\u001B[0;31mNameError\u001B[0m: name 'result' is not defined"
     ]
    }
   ],
   "execution_count": 1
  },
  {
   "metadata": {
    "ExecuteTime": {
     "end_time": "2024-09-12T14:48:19.279361Z",
     "start_time": "2024-09-12T14:48:19.276068Z"
    }
   },
   "cell_type": "code",
   "source": "print(result.keys())",
   "id": "861d4b7c355b1577",
   "outputs": [
    {
     "name": "stdout",
     "output_type": "stream",
     "text": [
      "odict_keys([])\n"
     ]
    }
   ],
   "execution_count": 7
  },
  {
   "metadata": {},
   "cell_type": "code",
   "outputs": [],
   "execution_count": null,
   "source": "",
   "id": "bc8e41e28d61c2a5"
  }
 ],
 "metadata": {
  "kernelspec": {
   "display_name": "Python 3",
   "language": "python",
   "name": "python3"
  },
  "language_info": {
   "codemirror_mode": {
    "name": "ipython",
    "version": 2
   },
   "file_extension": ".py",
   "mimetype": "text/x-python",
   "name": "python",
   "nbconvert_exporter": "python",
   "pygments_lexer": "ipython2",
   "version": "2.7.6"
  }
 },
 "nbformat": 4,
 "nbformat_minor": 5
}
